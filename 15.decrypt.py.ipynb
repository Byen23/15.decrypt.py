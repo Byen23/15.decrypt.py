{
 "cells": [
  {
   "cell_type": "code",
   "execution_count": 1,
   "metadata": {
    "ExecuteTime": {
     "end_time": "2019-01-18T01:17:14.116668Z",
     "start_time": "2019-01-18T01:16:56.220222Z"
    }
   },
   "outputs": [
    {
     "name": "stdout",
     "output_type": "stream",
     "text": [
      "Enter the coded text: lqydghuv\n",
      "Enter the distance value: 3\n",
      "invaders\n"
     ]
    }
   ],
   "source": [
    "# -*- coding: utf-8 -*-\n",
    "\"\"\"\n",
    "Created on Thu Jan 17, 2019\n",
    "\n",
    "File: decrypt.py\n",
    "Decrypts an input string of lowercase letters and print\n",
    "the result. THe other input is the distance value.\n",
    "@author: Byen23\n",
    "\"\"\"\n",
    "# This will be my 15th program to be uploaded on Github.\n",
    "\n",
    "code = input(\"Enter the coded text: \")\n",
    "distance = int(input(\"Enter the distance value: \"))\n",
    "plainText = \"\"\n",
    "for ch in code:\n",
    "\tordvalue = ord(ch)\n",
    "\tcipherValue = ordvalue - distance\n",
    "\tif cipherValue < ord('a'):\n",
    "\t\tcipherValue = ord('z') - \\\n",
    "\t\t              (distance - (ord('a') - ordvalue - 1))\n",
    "\tplainText += chr(cipherValue)\n",
    "print(plainText)"
   ]
  }
 ],
 "metadata": {
  "kernelspec": {
   "display_name": "Python 3",
   "language": "python",
   "name": "python3"
  },
  "language_info": {
   "codemirror_mode": {
    "name": "ipython",
    "version": 3
   },
   "file_extension": ".py",
   "mimetype": "text/x-python",
   "name": "python",
   "nbconvert_exporter": "python",
   "pygments_lexer": "ipython3",
   "version": "3.6.8"
  }
 },
 "nbformat": 4,
 "nbformat_minor": 2
}
